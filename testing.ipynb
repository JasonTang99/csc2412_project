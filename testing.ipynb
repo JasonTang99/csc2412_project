{
 "cells": [
  {
   "cell_type": "code",
   "execution_count": null,
   "metadata": {},
   "outputs": [],
   "source": [
    "import numpy as np\n",
    "import matplotlib.pyplot as plt\n",
    "from tqdm import tqdm\n",
    "from collections import namedtuple\n",
    "import os\n",
    "from time import time\n",
    "import warnings\n",
    "warnings.filterwarnings(\"ignore\")\n",
    "\n",
    "import torch\n",
    "import torch.nn as nn\n",
    "import torch.nn.functional as F\n",
    "import torch.optim as optim\n",
    "import torch.utils.data as data\n",
    "\n",
    "import torchvision\n",
    "import torchvision.transforms as transforms\n",
    "\n",
    "import opacus\n",
    "from opacus import PrivacyEngine\n",
    "from opacus.validators import ModuleValidator\n",
    "\n",
    "from utils import generate_run_id, get_input_args, Args\n",
    "from models import Discriminator, Generator_MNIST, Weight_Clipper, G_weights_init\n",
    "from data import load_MNIST\n",
    "from metrics import get_IS, get_FID"
   ]
  },
  {
   "cell_type": "code",
   "execution_count": null,
   "metadata": {},
   "outputs": [],
   "source": [
    "# Random Seeding\n",
    "torch.manual_seed(0)\n",
    "np.random.seed(0)\n",
    "\n",
    "# Device Configuration\n",
    "device = torch.device(\"cuda\" if torch.cuda.is_available() else \"cpu\")\n",
    "\n",
    "activation = 'LeakyReLU'\n",
    "args = Args(\n",
    "    # Model Parameters\n",
    "    hidden=[16, 12], nz=100, ngf=32, nc=1, activation=activation,\n",
    "    # Privacy Parameters\n",
    "    epsilon=50.0, delta=1e-6, noise_multiplier=0.3, c_p=0.01, \n",
    "    # Training Parameters\n",
    "    lr=1e-3, beta1=0.5, batch_size=16, n_d=3, n_g=int(1e4)\n",
    ")\n",
    "\n",
    "# Generate Run ID\n",
    "run_id = generate_run_id(args)\n",
    "\n",
    "\n",
    "run_id = \"public_16-12_100_32_1_inf_1e-06_0.4_0.005_0.0001_0.5_64_4_300000_LeakyReLU\"\n",
    "# run_id = \"16-12_100_32_1_inf_1e-06_0.4_0.005_0.0005_0.5_64_5_50000\"\n",
    "# /home/jason/p2/runs/16-12_100_32_1_inf_1e-06_0.4_0.005_0.0005_0.5_64_5_50000\n",
    "# run_id = \"16-12_100_32_1_50.0_1e-06_0.6_0.005_0.0001_0.5_64_4_300000_Tanh\"\n",
    "# run_id = \"16-12_100_32_1_50.0_1e-06_0.6_0.005_0.0001_0.5_64_5_300000_Tanh\"\n",
    "run_id = \"16-12_100_32_1_50.0_1e-06_0.2_0.005_0.0001_0.5_64_4_300000_Tanh\"\n",
    "\n",
    "# Create Folder Path\n",
    "run_fp = os.path.join('runs/', run_id)\n",
    "run_fp"
   ]
  },
  {
   "cell_type": "code",
   "execution_count": null,
   "metadata": {},
   "outputs": [],
   "source": [
    "import os\n",
    "# run_id = \"16-12_100_32_1_50.0_1e-06_0.6_0.005_0.0001_0.5_32_4_500000\"\n",
    "run_fp = os.path.join('runs/', run_id)\n",
    "\n",
    "# Read loss.txt\n",
    "# 4 lines of discriminator loss, 1 line of generator loss\n",
    "# Seperate discriminator loss and generator loss\n",
    "loss_fp = os.path.join(run_fp, 'loss.txt')\n",
    "epsilons = []\n",
    "d_loss, g_loss = [], []\n",
    "\n",
    "with open(loss_fp, 'r') as f:\n",
    "    loss = f.read().splitlines()\n",
    "    for i in range(len(loss)):\n",
    "        if \"time\" in loss[i]:\n",
    "            continue\n",
    "        if i % 5 == 4:\n",
    "            idx, l = loss[i].split(\", \")\n",
    "            idx = int(float(idx))\n",
    "            g_loss.append((idx, float(l)))\n",
    "            # print(\"G\", loss[i])\n",
    "        else:\n",
    "            idx, l = loss[i].split(\", \")\n",
    "            idx = int(float(idx))\n",
    "            d_loss.append((idx, float(l)))\n",
    "            # print(loss[i])\n",
    "        \n",
    "        # if \"epsilon\" in loss[i]:\n",
    "        #     idx, epsilon = loss[i].split(\": epsilon\")\n",
    "        #     epsilons.append(float(epsilon))\n",
    "            # print(idx, epsilon)\n",
    "\n",
    "# print difference between epsilons\n",
    "# for i in range(len(epsilons)-1):\n",
    "#     print(epsilons[i+1] - epsilons[i])\n",
    "\n",
    "# print difference of difference between epsilons\n",
    "# for i in range(len(epsilons)-2):\n",
    "#     print(epsilons[i+2] - epsilons[i+1] - epsilons[i+1] + epsilons[i])\n",
    "\n"
   ]
  },
  {
   "cell_type": "code",
   "execution_count": null,
   "metadata": {},
   "outputs": [],
   "source": [
    "g_loss[197: 201]"
   ]
  },
  {
   "cell_type": "code",
   "execution_count": null,
   "metadata": {},
   "outputs": [],
   "source": [
    "# Graph Loss\n",
    "plt.figure(figsize=(10, 5))\n",
    "plt.title(\"Generator and Discriminator Loss During Training\")\n",
    "plt.plot(*zip(*d_loss), label=\"Discriminator\")\n",
    "plt.plot(*zip(*g_loss), label=\"Generator\")\n",
    "plt.xlabel(\"iterations\")\n",
    "plt.ylabel(\"Loss\")\n",
    "\n",
    "# Only show first 100 epochs\n",
    "# plt.xlim(-10, 20000)\n",
    "plt.legend()\n",
    "plt.show()"
   ]
  },
  {
   "cell_type": "code",
   "execution_count": null,
   "metadata": {},
   "outputs": [],
   "source": [
    "# Load Accounant\n",
    "accountant_fp = os.path.join(run_fp, 'accountant_2000.pth')\n",
    "accountant = torch.load(accountant_fp)\n",
    "\n",
    "# accountant.get_epsilon(1e-5)\n"
   ]
  },
  {
   "cell_type": "code",
   "execution_count": null,
   "metadata": {},
   "outputs": [],
   "source": [
    "# Setup MNIST dataset\n",
    "labeling_loader, public_loader, private_loader, test_loader = load_MNIST(args.batch_size)"
   ]
  },
  {
   "cell_type": "code",
   "execution_count": null,
   "metadata": {},
   "outputs": [],
   "source": [
    "\n",
    "def generate_samples(fp):\n",
    "    G = Generator_MNIST(nz=args.nz, ngf=args.ngf, nc=args.nc).to(device)\n",
    "    G.load_state_dict(torch.load(os.path.join(run_fp, fp)))\n",
    "    G.eval()\n",
    "    # Generate Sample Images\n",
    "    noise = torch.randn(32, 100, 1, 1).to(device)\n",
    "    fake = G(noise)\n",
    "    fake = fake.view(fake.size(0), 1, 28, 28)\n",
    "    print(torch.min(fake), torch.max(fake))\n",
    "\n",
    "    # Plot Sample Images\n",
    "    fig, ax = plt.subplots(4, 8, figsize=(10, 5))\n",
    "    for i in range(4):\n",
    "        for j in range(8):\n",
    "            ax[i, j].imshow(fake[i*8+j][0].detach().cpu().numpy(), cmap='gray')\n",
    "            ax[i, j].axis('off')\n",
    "    plt.show()"
   ]
  },
  {
   "cell_type": "code",
   "execution_count": null,
   "metadata": {},
   "outputs": [],
   "source": [
    "# Load the generator\n",
    "run_id = \"16-12_100_32_1_50.0_1e-06_0.1_0.01_0.0001_0.5_64_10_300000_Tanh\"\n",
    "run_id = \"runs/private_16-12_100_32_1_0_1e-06_0.0_0.01_0.0001_0.5_64_5_200000_LeakyReLU\"\n",
    "run_id = run_id.split(\"/\")[-1]\n",
    "# run_id = \"private_16-12_100_32_1_inf_1e-06_0.4_0.005_0.0001_0.5_64_4_300000_LeakyReLU\"\n",
    "run_fp = os.path.join('runs/', run_id)\n",
    "\n",
    "# for i in [200, 400, 600, 800, 1000, 1200, 1400, 1600, 1800, 2000, 2200, 2400, 2600, 2800, 3000, 3200, 3400, 3600, 3800, 4000, 4200, 4400, 4600, 4800, 5000]:\n",
    "#     fp = 'netG_{}.pt'.format(i)\n",
    "#     if os.path.exists(os.path.join(run_fp, fp)):\n",
    "#         print(fp)\n",
    "#         generate_samples(fp)\n",
    "# for i in [5200, 5400, 5600, 5800, 6000, 6200, 6400, 6600, 6800, 7000, 7200, 7400, 7600, 7800, 8000, 8200, 8400, 8600, 8800, 9000, 9200, 9400, 9600, 9800, 10000, 10200, 10400, 10600, 10800, 11000, 11200, 11400, 11600, 11800, 12000, 12200, 12400, 12600, 12800, 13000, 13200, 13400, 13600, 13800, 14000, 14200, 14400, 14600, 14800, 15000, 15200, 15400, 15600, 15800, 16000, 16200, 16400, 16600, 16800, 17000, 17200, 17400, 17600, 17800, 18000, 18200, 18400, 18600, 18800, 19000, 19200, 19400, 19600, 19800, 20000, 20200, 20400, 20600, 20800, 21000, 21200, 21400, 21600, 21800, 22000, 22200, 22400, 22600, 22800, 23000, 23200, 23400, 23600, 23800, 24000, 24200, 24400, 24600, 24800, ]:\n",
    "#     fp = 'netG_{}.pt'.format(i)\n",
    "#     if os.path.exists(os.path.join(run_fp, fp)):\n",
    "#         print(fp)\n",
    "#         generate_samples(fp)\n",
    "for i in [25000, 30000, 35000, 40000, 45000, 50000, 55000, 60000, 65000, 70000, 75000, 80000, 85000, 90000, 95000, 100000, 105000, 110000, 115000, 120000, 125000, 130000, 135000, 140000, 145000, 150000, 155000, 160000, 165000, 170000, 175000, 180000, 185000, 190000, 195000, 200000, 205000, 210000, 215000, 220000, 225000, 230000, 235000, 240000, 245000, 250000, 255000, 260000, 265000, 270000, 275000, 280000, 285000, 290000, 295000, 300000]:\n",
    "    fp = 'netG_{}.pt'.format(i)\n",
    "    if os.path.exists(os.path.join(run_fp, fp)):\n",
    "        print(fp)\n",
    "        generate_samples(fp)"
   ]
  },
  {
   "cell_type": "code",
   "execution_count": null,
   "metadata": {},
   "outputs": [],
   "source": [
    "# Generate 2048 fake images\n",
    "noise = torch.randn(2048, 100, 1, 1).to(device)\n",
    "fake = G(noise)\n",
    "fake = fake.view(fake.size(0), 1, 28, 28)"
   ]
  },
  {
   "cell_type": "code",
   "execution_count": null,
   "metadata": {},
   "outputs": [],
   "source": [
    "# Calculate Inception Score\n",
    "IS = get_IS(fake)\n",
    "print(\"Inception Score:\", IS)"
   ]
  },
  {
   "cell_type": "code",
   "execution_count": null,
   "metadata": {},
   "outputs": [],
   "source": [
    "# Calculate Frechet Inception Distance\n",
    "FID = get_FID(fake)\n",
    "print(\"Frechet Inception Distance:\", FID)"
   ]
  },
  {
   "cell_type": "code",
   "execution_count": null,
   "metadata": {},
   "outputs": [],
   "source": []
  }
 ],
 "metadata": {
  "kernelspec": {
   "display_name": "Python 3",
   "language": "python",
   "name": "python3"
  },
  "language_info": {
   "codemirror_mode": {
    "name": "ipython",
    "version": 3
   },
   "file_extension": ".py",
   "mimetype": "text/x-python",
   "name": "python",
   "nbconvert_exporter": "python",
   "pygments_lexer": "ipython3",
   "version": "3.8.0"
  },
  "orig_nbformat": 4,
  "vscode": {
   "interpreter": {
    "hash": "15e8192faefa7c4df086f69d5df89c8d0b9f28f8905c5b10f9ee705b3f14aede"
   }
  }
 },
 "nbformat": 4,
 "nbformat_minor": 2
}
